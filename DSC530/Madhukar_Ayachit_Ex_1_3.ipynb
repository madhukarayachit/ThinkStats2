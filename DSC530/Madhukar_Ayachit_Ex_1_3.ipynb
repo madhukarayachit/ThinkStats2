{
 "cells": [
  {
   "cell_type": "code",
   "execution_count": 305,
   "metadata": {},
   "outputs": [],
   "source": [
    "\"\"\"\n",
    "Name                     : Ayachit Madhukar \n",
    "Course                   : DSC530\n",
    "Instructor               : Mr. Shankar Parajulee\n",
    "Date                     : 18 Dec 2020\n",
    "\n",
    "Description              : Comparing pregnency length amd weight for first babies with others\n",
    "\"\"\"\n",
    "import sys\n",
    "sys.path.append('ThinkStats2-master/code')\n"
   ]
  },
  {
   "cell_type": "code",
   "execution_count": 306,
   "metadata": {},
   "outputs": [],
   "source": [
    "import thinkstats2 \n",
    "import thinkplot \n",
    "import nsfg\n"
   ]
  },
  {
   "cell_type": "code",
   "execution_count": 307,
   "metadata": {},
   "outputs": [],
   "source": [
    "#  loading data \n",
    "preg = nsfg.ReadFemPreg()\n",
    "\n"
   ]
  },
  {
   "cell_type": "code",
   "execution_count": 308,
   "metadata": {},
   "outputs": [],
   "source": [
    "# Adding pregnancy length which was not available in default dataset\n",
    "\n",
    "preg['prglength']=preg['wksgest']"
   ]
  },
  {
   "cell_type": "code",
   "execution_count": 309,
   "metadata": {},
   "outputs": [],
   "source": [
    "# considering live births for first baby\n",
    "\n",
    "live=preg[preg.outcome == 1]\n",
    "firstbaby=live[live.birthord == 1]\n",
    "others= live[live.birthord != 1]\n",
    "\n"
   ]
  },
  {
   "cell_type": "code",
   "execution_count": 310,
   "metadata": {},
   "outputs": [],
   "source": [
    "# Preparing for histogram\n",
    "first_hist=thinkstats2.Hist(firstbaby.prglength)\n",
    "other_hist=thinkstats2.Hist(others.prglength)\n",
    "\n"
   ]
  },
  {
   "cell_type": "code",
   "execution_count": 311,
   "metadata": {},
   "outputs": [
    {
     "name": "stdout",
     "output_type": "stream",
     "text": [
      "0.0 1\n",
      "17.0 1\n",
      "20.0 1\n",
      "21.0 1\n",
      "22.0 2\n",
      "23.0 1\n",
      "24.0 7\n",
      "25.0 1\n",
      "26.0 17\n",
      "27.0 1\n"
     ]
    }
   ],
   "source": [
    "# looking for outliers from lower bound data\n",
    "for weeks ,freq in first_hist.Smallest(10):\n",
    "    print (weeks,freq)"
   ]
  },
  {
   "cell_type": "code",
   "execution_count": 312,
   "metadata": {},
   "outputs": [
    {
     "name": "stdout",
     "output_type": "stream",
     "text": [
      "97.0 1\n",
      "48.0 3\n",
      "47.0 1\n",
      "46.0 2\n",
      "45.0 6\n",
      "44.0 23\n",
      "43.0 88\n",
      "42.0 207\n",
      "41.0 362\n",
      "40.0 538\n"
     ]
    }
   ],
   "source": [
    "# looking for outliers from upper bound data\n",
    "for weeks ,freq in first_hist.Largest(10):\n",
    "    print (weeks,freq)"
   ]
  },
  {
   "cell_type": "code",
   "execution_count": 313,
   "metadata": {},
   "outputs": [
    {
     "data": {
      "image/png": "[encoded data removed]",
      "text/plain": [
       "<Figure size 432x288 with 1 Axes>"
      ]
     },
     "metadata": {
      "needs_background": "light"
     },
     "output_type": "display_data"
    },
    {
     "data": {
      "text/plain": [
       "<Figure size 576x432 with 0 Axes>"
      ]
     },
     "metadata": {},
     "output_type": "display_data"
    }
   ],
   "source": [
    "# Histogram for Pregnancy  length\n",
    "width=.45\n",
    "thinkplot.PrePlot(2)\n",
    "thinkplot.Hist(first_hist,align='right',width=width ,color='red')\n",
    "thinkplot.Hist(other_hist,align='left',width=width,color='blue')\n",
    "thinkplot.Show(xlabel='Week',ylabel='Frequency')"
   ]
  },
  {
   "cell_type": "code",
   "execution_count": 314,
   "metadata": {},
   "outputs": [],
   "source": [
    "# Preparing Total weight Hist data\n",
    "\n",
    "first_hist_wt=thinkstats2.Hist(firstbaby.totalwgt_lb)\n",
    "other_hist_wt=thinkstats2.Hist(others.totalwgt_lb)"
   ]
  },
  {
   "cell_type": "code",
   "execution_count": 315,
   "metadata": {},
   "outputs": [
    {
     "data": {
      "image/png": "[encoded data removed]",
      "text/plain": [
       "<Figure size 432x288 with 1 Axes>"
      ]
     },
     "metadata": {
      "needs_background": "light"
     },
     "output_type": "display_data"
    },
    {
     "data": {
      "text/plain": [
       "<Figure size 576x432 with 0 Axes>"
      ]
     },
     "metadata": {},
     "output_type": "display_data"
    }
   ],
   "source": [
    "# Histogram for baby  weight\n",
    "width=.65\n",
    "thinkplot.PrePlot(2)\n",
    "thinkplot.Hist(first_hist_wt,align='right',width=width,color='red')\n",
    "thinkplot.Hist(other_hist_wt,align='left',width=width,color='blue')\n",
    "\n",
    "thinkplot.Show(xlabel='Weight',ylabel='Frequency ')\n"
   ]
  },
  {
   "cell_type": "code",
   "execution_count": 316,
   "metadata": {},
   "outputs": [
    {
     "data": {
      "text/plain": [
       "(count    4363.000000\n",
       " mean        7.201094\n",
       " std         1.420573\n",
       " min         0.125000\n",
       " 25%         6.437500\n",
       " 50%         7.312500\n",
       " 75%         8.000000\n",
       " max        15.437500\n",
       " Name: totalwgt_lb, dtype: float64,\n",
       " count    4675.000000\n",
       " mean        7.325856\n",
       " std         1.394195\n",
       " min         0.562500\n",
       " 25%         6.500000\n",
       " 50%         7.375000\n",
       " 75%         8.187500\n",
       " max        14.000000\n",
       " Name: totalwgt_lb, dtype: float64)"
      ]
     },
     "execution_count": 316,
     "metadata": {},
     "output_type": "execute_result"
    }
   ],
   "source": [
    "firstbaby.totalwgt_lb.describe(), others.totalwgt_lb.describe() "
   ]
  },
  {
   "cell_type": "code",
   "execution_count": 317,
   "metadata": {},
   "outputs": [
    {
     "data": {
      "text/plain": [
       "'\\nConclusion  on Pregnancy length\\nLeaving upper bond outlier 97 and anything below 30 histograms pretty much concentrated between 34 to 43 mostly. Above statistics and visual indicates that an average duration for first baby remains close to 39 Weeks which is normal \\nany hypothesis suggesting otherwise is proven wrong according to this exercise.\\n\\nConclusion  on baby weight \\n\\nVisuals and statistics indicates first babies are slightly lighter in the weight. \\n\\n'"
      ]
     },
     "execution_count": 317,
     "metadata": {},
     "output_type": "execute_result"
    }
   ],
   "source": [
    "\n",
    "\"\"\"\n",
    "Conclusion  on Pregnancy length\n",
    "Leaving upper bond outlier 97 and anything below 30 histograms pretty much concentrated between 34 to 43 mostly. Above statistics and visual indicates that an average duration for first baby remains close to 39 Weeks which is normal \n",
    "any hypothesis suggesting otherwise is proven wrong according to this exercise.\n",
    "\n",
    "Conclusion  on baby weight \n",
    "\n",
    "Visuals and statistics indicates first babies are slightly lighter in the weight. \n",
    "\n",
    "\"\"\""
   ]
  },
  {
   "cell_type": "code",
   "execution_count": null,
   "metadata": {},
   "outputs": [],
   "source": []
  }
 ],
 "metadata": {
  "kernelspec": {
   "display_name": "Python 3",
   "language": "python",
   "name": "python3"
  },
  "language_info": {
   "codemirror_mode": {
    "name": "ipython",
    "version": 3
   },
   "file_extension": ".py",
   "mimetype": "text/x-python",
   "name": "python",
   "nbconvert_exporter": "python",
   "pygments_lexer": "ipython3",
   "version": "3.8.5"
  }
 },
 "nbformat": 4,
 "nbformat_minor": 4
}
