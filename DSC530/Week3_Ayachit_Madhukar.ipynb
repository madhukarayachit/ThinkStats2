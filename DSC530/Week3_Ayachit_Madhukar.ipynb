{
 "cells": [
  {
   "cell_type": "markdown",
   "metadata": {},
   "source": [
    "# Week 3\n",
    "\n",
    "\n",
    "## Name         : Ayachit Madhukar  \n",
    "## Course       : DSC530 \n",
    "## Instructor  : Mr. Shankar Parajulee \n"
   ]
  },
  {
   "cell_type": "markdown",
   "metadata": {},
   "source": [
    "**Exercise**              : Comparing pregnency length amd weight for first babies with others\n"
   ]
  },
  {
   "cell_type": "code",
   "execution_count": 4,
   "metadata": {},
   "outputs": [],
   "source": [
    "\n",
    "# setting uop working directory\n",
    "import os\n",
    "os.getcwd() \n",
    "import sys\n",
    "sys.path.append('../ThinkStats2-master/code')"
   ]
  },
  {
   "cell_type": "code",
   "execution_count": 5,
   "metadata": {},
   "outputs": [],
   "source": [
    "import thinkstats2 \n",
    "import thinkplot \n",
    "import nsfg"
   ]
  },
  {
   "cell_type": "code",
   "execution_count": 6,
   "metadata": {},
   "outputs": [],
   "source": [
    "#  loading data \n",
    "preg = nsfg.ReadFemPreg()"
   ]
  },
  {
   "cell_type": "code",
   "execution_count": 7,
   "metadata": {},
   "outputs": [],
   "source": [
    "# Adding pregnancy length which was not available in default dataset\n",
    "\n",
    "preg['prglength']=preg['wksgest']"
   ]
  },
  {
   "cell_type": "code",
   "execution_count": 8,
   "metadata": {},
   "outputs": [
    {
     "data": {
      "text/plain": [
       "(0        39.0\n",
       " 2        39.0\n",
       " 5        38.0\n",
       " 8        39.0\n",
       " 10       39.0\n",
       "          ... \n",
       " 13576    39.0\n",
       " 13578    39.0\n",
       " 13581    39.0\n",
       " 13584    34.0\n",
       " 13588    39.0\n",
       " Name: prglength, Length: 4413, dtype: float64,\n",
       " 1        39.0\n",
       " 3        39.0\n",
       " 4        39.0\n",
       " 6        40.0\n",
       " 7        42.0\n",
       "          ... \n",
       " 13572    39.0\n",
       " 13574    39.0\n",
       " 13579    39.0\n",
       " 13591    39.0\n",
       " 13592    39.0\n",
       " Name: prglength, Length: 4735, dtype: float64)"
      ]
     },
     "execution_count": 8,
     "metadata": {},
     "output_type": "execute_result"
    }
   ],
   "source": [
    "# considering live births for first baby\n",
    "\n",
    "live=preg[preg.outcome == 1]\n",
    "firstbaby=live[live.birthord == 1]\n",
    "others= live[live.birthord != 1]\n",
    "\n",
    "firstbaby.prglength,others.prglength"
   ]
  },
  {
   "cell_type": "code",
   "execution_count": 10,
   "metadata": {},
   "outputs": [
    {
     "data": {
      "text/plain": [
       "(15       33.0\n",
       " 27       42.0\n",
       " 42       36.0\n",
       " 60       37.0\n",
       " 130      43.0\n",
       "          ... \n",
       " 13494    37.0\n",
       " 13525    42.0\n",
       " 13531    33.0\n",
       " 13547    30.0\n",
       " 13584    34.0\n",
       " Name: prglength, Length: 1091, dtype: float64,\n",
       " 37.5,\n",
       " 41.5)"
      ]
     },
     "execution_count": 10,
     "metadata": {},
     "output_type": "execute_result"
    }
   ],
   "source": [
    "# looking for outliers in firstbaby\n",
    "firstbaby.prglength.describe()\n",
    "Q1=firstbaby.prglength.quantile(0.25)\n",
    "Q3=firstbaby.prglength.quantile(0.75)\n",
    "IQR=Q3 - Q1\n",
    "lower_limit=Q1 - 1.5*IQR\n",
    "upper_limit= Q3 + 1.5*IQR\n",
    "lower_limit,upper_limit\n",
    "outlier=(firstbaby.prglength < lower_limit ) | (firstbaby.prglength > upper_limit)\n",
    "prglength_clean= (firstbaby.prglength <= upper_limit )& (firstbaby.prglength >= lower_limit)\n",
    "firstbaby.prglength[outlier],lower_limit,upper_limit"
   ]
  },
  {
   "cell_type": "code",
   "execution_count": 11,
   "metadata": {},
   "outputs": [
    {
     "data": {
      "text/plain": [
       "(6        40.0\n",
       " 7        42.0\n",
       " 9        35.0\n",
       " 12       37.0\n",
       " 16       33.0\n",
       "          ... \n",
       " 13545    30.0\n",
       " 13546    38.0\n",
       " 13552    38.0\n",
       " 13561    44.0\n",
       " 13563    40.0\n",
       " Name: prglength, Length: 2140, dtype: float64,\n",
       " 39.0,\n",
       " 39.0)"
      ]
     },
     "execution_count": 11,
     "metadata": {},
     "output_type": "execute_result"
    }
   ],
   "source": [
    "# looking for outliers in others\n",
    "others.prglength.describe()\n",
    "Q1=others.prglength.quantile(0.25)\n",
    "Q3=others.prglength.quantile(0.75)\n",
    "IQR=Q3 - Q1\n",
    "lower_limit=Q1 - 1.5*IQR\n",
    "upper_limit= Q3 + 1.5*IQR\n",
    "\n",
    "other_outlier=(others.prglength < lower_limit ) | (others.prglength > upper_limit)\n",
    "prglength_other_clean= (others.prglength <= upper_limit ) & (others.prglength >= lower_limit)\n",
    "\n",
    "others.prglength[other_outlier],lower_limit,upper_limit"
   ]
  },
  {
   "cell_type": "code",
   "execution_count": 12,
   "metadata": {},
   "outputs": [],
   "source": [
    "# Preparing for histogram\n",
    "first_hist=thinkstats2.Hist(firstbaby.prglength[prglength_clean])\n",
    "other_hist=thinkstats2.Hist(others.prglength[prglength_other_clean])"
   ]
  },
  {
   "cell_type": "code",
   "execution_count": 13,
   "metadata": {},
   "outputs": [
    {
     "data": {
      "image/png": "[encoded data removed]",
      "text/plain": [
       "<Figure size 432x288 with 1 Axes>"
      ]
     },
     "metadata": {
      "needs_background": "light"
     },
     "output_type": "display_data"
    },
    {
     "data": {
      "text/plain": [
       "<Figure size 576x432 with 0 Axes>"
      ]
     },
     "metadata": {},
     "output_type": "display_data"
    }
   ],
   "source": [
    "# Histogram for Pregnancy  length\n",
    "width=.45\n",
    "thinkplot.PrePlot(2)\n",
    "thinkplot.Hist(first_hist,align='right',width=width ,color='red')\n",
    "thinkplot.Hist(other_hist,align='left',width=width,color='blue')\n",
    "thinkplot.Show(xlabel='Week',ylabel='Frequency')"
   ]
  },
  {
   "cell_type": "code",
   "execution_count": 14,
   "metadata": {},
   "outputs": [
    {
     "data": {
      "text/plain": [
       "(count    4363.000000\n",
       " mean        7.201094\n",
       " std         1.420573\n",
       " min         0.125000\n",
       " 25%         6.437500\n",
       " 50%         7.312500\n",
       " 75%         8.000000\n",
       " max        15.437500\n",
       " Name: totalwgt_lb, dtype: float64,\n",
       " count    4675.000000\n",
       " mean        7.325856\n",
       " std         1.394195\n",
       " min         0.562500\n",
       " 25%         6.500000\n",
       " 50%         7.375000\n",
       " 75%         8.187500\n",
       " max        14.000000\n",
       " Name: totalwgt_lb, dtype: float64)"
      ]
     },
     "execution_count": 14,
     "metadata": {},
     "output_type": "execute_result"
    }
   ],
   "source": [
    "firstbaby.totalwgt_lb.describe(), others.totalwgt_lb.describe() "
   ]
  },
  {
   "cell_type": "code",
   "execution_count": 15,
   "metadata": {},
   "outputs": [
    {
     "data": {
      "text/plain": [
       "(52       10.5000\n",
       " 104      12.0000\n",
       " 178      11.0000\n",
       " 253      11.0625\n",
       " 714      10.6250\n",
       " 819      11.3750\n",
       " 1238     11.5625\n",
       " 2092     10.6875\n",
       " 2680     10.5000\n",
       " 2771     10.5000\n",
       " 2824     11.6875\n",
       " 2894     11.1875\n",
       " 3045     11.6250\n",
       " 3959     11.5625\n",
       " 4097     13.7500\n",
       " 4100     12.0000\n",
       " 4173     11.0000\n",
       " 4421     12.0000\n",
       " 5010     11.4375\n",
       " 5093     12.1875\n",
       " 5570     10.5000\n",
       " 6024     11.0000\n",
       " 6568     10.7500\n",
       " 7298     12.3750\n",
       " 7308     15.4375\n",
       " 7398     12.3750\n",
       " 7406     12.5000\n",
       " 9561     11.7500\n",
       " 9655     10.3750\n",
       " 9734     12.1875\n",
       " 9792     10.8125\n",
       " 9827     10.6250\n",
       " 9929     10.5000\n",
       " 10139    11.0000\n",
       " 10922    10.6250\n",
       " 10969    11.1875\n",
       " 11005    10.5625\n",
       " 12191    10.5000\n",
       " 12397    10.8125\n",
       " 12797    10.3750\n",
       " 12801    14.0000\n",
       " 13027    10.8125\n",
       " 13242    10.6875\n",
       " 13306    10.8750\n",
       " 13316    10.6875\n",
       " Name: totalwgt_lb, dtype: float64,\n",
       " 0        8.8125\n",
       " 2        9.1250\n",
       " 5        8.5625\n",
       " 8        7.5625\n",
       " 10       7.8125\n",
       "           ...  \n",
       " 13576    6.4375\n",
       " 13578    6.0000\n",
       " 13581    6.3750\n",
       " 13584    6.3750\n",
       " 13588    6.1875\n",
       " Name: totalwgt_lb, Length: 4197, dtype: float64)"
      ]
     },
     "execution_count": 15,
     "metadata": {},
     "output_type": "execute_result"
    }
   ],
   "source": [
    "# looking for outliers in firstbaby weight distribution\n",
    "Q1=firstbaby.totalwgt_lb.quantile(0.25)\n",
    "Q3=firstbaby.totalwgt_lb.quantile(0.75)\n",
    "IQR=Q3 - Q1\n",
    "lower_limt=Q1 - 1.5*IQR\n",
    "upper_limit= Q3 + 1.5*IQR\n",
    "\n",
    "firstbaby_wt_outlier=firstbaby.totalwgt_lb > upper_limit\n",
    "firstbaby_wt_clean= (firstbaby.totalwgt_lb <= upper_limit )& (firstbaby.totalwgt_lb >= lower_limt)\n",
    "firstbaby.totalwgt_lb [firstbaby_wt_outlier],firstbaby.totalwgt_lb [firstbaby_wt_clean]\n"
   ]
  },
  {
   "cell_type": "code",
   "execution_count": 16,
   "metadata": {},
   "outputs": [
    {
     "data": {
      "text/plain": [
       "(105      12.0000\n",
       " 106      14.0000\n",
       " 256      11.0000\n",
       " 903      13.5000\n",
       " 1061     11.7500\n",
       " 2246     10.7500\n",
       " 2556     11.0000\n",
       " 3595     11.1875\n",
       " 3668     10.8125\n",
       " 4412     11.9375\n",
       " 4757     10.8750\n",
       " 5117     11.1250\n",
       " 5252     10.8125\n",
       " 6733     13.0000\n",
       " 6852     10.7500\n",
       " 7299     11.5000\n",
       " 7485     11.1250\n",
       " 7854     10.9375\n",
       " 8009     10.8750\n",
       " 9599     11.4375\n",
       " 9661     11.0000\n",
       " 9735     12.0000\n",
       " 11103    11.0000\n",
       " 12099    11.0000\n",
       " 12802    14.0000\n",
       " Name: totalwgt_lb, dtype: float64,\n",
       " 1        7.8750\n",
       " 3        7.0000\n",
       " 4        6.1875\n",
       " 6        9.5625\n",
       " 7        8.3750\n",
       "           ...  \n",
       " 13572    5.8125\n",
       " 13574    6.1250\n",
       " 13579    7.0000\n",
       " 13591    7.5000\n",
       " 13592    7.5000\n",
       " Name: totalwgt_lb, Length: 4557, dtype: float64)"
      ]
     },
     "execution_count": 16,
     "metadata": {},
     "output_type": "execute_result"
    }
   ],
   "source": [
    "# looking for outliers in other weight distribution\n",
    "Q1=others.totalwgt_lb.quantile(0.25)\n",
    "Q3=others.totalwgt_lb.quantile(0.75)\n",
    "IQR=Q3 - Q1\n",
    "lower_limt=Q1 - 1.5*IQR\n",
    "upper_limit= Q3 + 1.5*IQR\n",
    "\n",
    "other_wt_outlier=others.totalwgt_lb > upper_limit\n",
    "other_wt_clean= (others.totalwgt_lb <= upper_limit ) & (others.totalwgt_lb >= lower_limt)\n",
    "others.totalwgt_lb [other_wt_outlier],others.totalwgt_lb [other_wt_clean]"
   ]
  },
  {
   "cell_type": "code",
   "execution_count": 17,
   "metadata": {},
   "outputs": [],
   "source": [
    "# Preparing Total weight Hist data\n",
    "\n",
    "first_hist_wt=thinkstats2.Hist(firstbaby.totalwgt_lb [firstbaby_wt_clean])\n",
    "other_hist_wt=thinkstats2.Hist(others.totalwgt_lb [other_wt_clean])"
   ]
  },
  {
   "cell_type": "code",
   "execution_count": 18,
   "metadata": {},
   "outputs": [
    {
     "data": {
      "image/png": "[encoded data removed]",
      "text/plain": [
       "<Figure size 432x288 with 1 Axes>"
      ]
     },
     "metadata": {
      "needs_background": "light"
     },
     "output_type": "display_data"
    },
    {
     "data": {
      "text/plain": [
       "<Figure size 576x432 with 0 Axes>"
      ]
     },
     "metadata": {},
     "output_type": "display_data"
    }
   ],
   "source": [
    "# Histogram for baby  weight\n",
    "width=.65\n",
    "thinkplot.PrePlot(2)\n",
    "thinkplot.Hist(first_hist_wt,align='right',width=width,color='red')\n",
    "thinkplot.Hist(other_hist_wt,align='left',width=width,color='blue')\n",
    "\n",
    "\n",
    "thinkplot.Show(xlabel='Weight',ylabel='Frequency ')"
   ]
  },
  {
   "cell_type": "code",
   "execution_count": null,
   "metadata": {},
   "outputs": [],
   "source": []
  }
 ],
 "metadata": {
  "kernelspec": {
   "display_name": "Python 3",
   "language": "python",
   "name": "python3"
  },
  "language_info": {
   "codemirror_mode": {
    "name": "ipython",
    "version": 3
   },
   "file_extension": ".py",
   "mimetype": "text/x-python",
   "name": "python",
   "nbconvert_exporter": "python",
   "pygments_lexer": "ipython3",
   "version": "3.8.5"
  }
 },
 "nbformat": 4,
 "nbformat_minor": 4
}
