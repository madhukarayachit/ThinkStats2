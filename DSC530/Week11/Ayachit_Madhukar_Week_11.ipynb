{
 "cells": [
  {
   "cell_type": "markdown",
   "metadata": {},
   "source": [
    "### Exercise       : Week  11\n",
    "\n",
    "## Name         : Ayachit Madhukar  \n",
    "## Course       : DSC530 \n",
    "## Instructor  : Mr. Shankar Parajulee \n",
    "## Date           : 25 Feb 2021\n"
   ]
  },
  {
   "cell_type": "code",
   "execution_count": 42,
   "metadata": {},
   "outputs": [],
   "source": [
    "# setting up working directory\n",
    "import os\n",
    "os.getcwd() \n",
    "import sys\n",
    "sys.path.append('../ThinkStats2-master/code')"
   ]
  },
  {
   "cell_type": "code",
   "execution_count": 43,
   "metadata": {},
   "outputs": [],
   "source": [
    "from __future__ import print_function, division\n",
    "\n",
    "%matplotlib inline\n",
    "\n",
    "import warnings\n",
    "warnings.filterwarnings('ignore', category=FutureWarning)\n",
    "\n",
    "import numpy as np\n",
    "import pandas as pd\n",
    "\n",
    "import random\n",
    "\n",
    "import thinkstats2\n",
    "import thinkplot\n",
    "\n",
    "import nsfg\n",
    "\n",
    "import survival"
   ]
  },
  {
   "cell_type": "markdown",
   "metadata": {
    "collapsed": true
   },
   "source": [
    "**Exercise 13-1 :**    In NSFG Cycles 6 and 7, the variable `cmdivorcx` contains the date of divorce for the respondent’s first marriage, if applicable, encoded in century-months.\n",
    "\n",
    "Compute the duration of marriages that have ended in divorce, and the duration, so far, of marriages that are ongoing. Estimate the hazard and survival curve for the duration of marriage.\n",
    "\n",
    "Use resampling to take into account sampling weights, and plot data from several resamples to visualize sampling error.\n",
    "\n",
    "Consider dividing the respondents into groups by decade of birth, and possibly by age at first marriage."
   ]
  },
  {
   "cell_type": "code",
   "execution_count": 46,
   "metadata": {},
   "outputs": [],
   "source": [
    "def CleanData(resp):\n",
    "    \"\"\"Cleans respondent data.\n",
    "\n",
    "    resp: DataFrame\n",
    "    \"\"\"\n",
    "    resp.cmdivorcx.replace([9998, 9999], np.nan, inplace=True)\n",
    "\n",
    "    resp['notdivorced'] = resp.cmdivorcx.isnull().astype(int)\n",
    "    resp['duration'] = (resp.cmdivorcx - resp.cmmarrhx) / 12.0\n",
    "    resp['durationsofar'] = (resp.cmintvw - resp.cmmarrhx) / 12.0\n",
    "\n",
    "    month0 = pd.to_datetime('1899-12-15')\n",
    "    dates = [month0 + pd.DateOffset(months=cm) \n",
    "             for cm in resp.cmbirth]\n",
    "    resp['decade'] = (pd.DatetimeIndex(dates).year - 1900) // 10"
   ]
  },
  {
   "cell_type": "code",
   "execution_count": 45,
   "metadata": {},
   "outputs": [],
   "source": [
    "resp6 = nsfg.ReadFemResp()"
   ]
  },
  {
   "cell_type": "code",
   "execution_count": 47,
   "metadata": {},
   "outputs": [],
   "source": [
    "CleanData(resp6)\n",
    "married6 =  [resp6.evrmarry==1]\n",
    "\n",
    "CleanData(resp7)\n",
    "married7 = resp7[resp7.evrmarry==1]"
   ]
  },
  {
   "cell_type": "code",
   "execution_count": 48,
   "metadata": {},
   "outputs": [],
   "source": [
    "# Solution\n",
    "\n",
    "def ResampleDivorceCurve(resps):\n",
    "    \"\"\"Plots divorce curves based on resampled data.\n",
    "\n",
    "    resps: list of respondent DataFrames\n",
    "    \"\"\"\n",
    "    for _ in range(11):\n",
    "        samples = [thinkstats2.ResampleRowsWeighted(resp) \n",
    "                   for resp in resps]\n",
    "        sample = pd.concat(samples, ignore_index=True)\n",
    "        PlotDivorceCurveByDecade(sample, color='#225EA8', alpha=0.1)\n",
    "\n",
    "    thinkplot.Show(xlabel='years',\n",
    "                   axis=[0, 28, 0, 1])"
   ]
  },
  {
   "cell_type": "code",
   "execution_count": 49,
   "metadata": {},
   "outputs": [],
   "source": [
    "# Solution\n",
    "\n",
    "def ResampleDivorceCurveByDecade(resps):\n",
    "    \"\"\"Plots divorce curves for each birth cohort.\n",
    "\n",
    "    resps: list of respondent DataFrames    \n",
    "    \"\"\"\n",
    "    for i in range(41):\n",
    "        samples = [thinkstats2.ResampleRowsWeighted(resp) \n",
    "                   for resp in resps]\n",
    "        sample = pd.concat(samples, ignore_index=True)\n",
    "        groups = sample.groupby('decade')\n",
    "        if i == 0:\n",
    "            survival.AddLabelsByDecade(groups, alpha=0.7)\n",
    "\n",
    "        EstimateSurvivalByDecade(groups, alpha=0.1)\n",
    "\n",
    "    thinkplot.Config(xlabel='Years',\n",
    "                     ylabel='Fraction undivorced',\n",
    "                     axis=[0, 28, 0, 1])"
   ]
  },
  {
   "cell_type": "code",
   "execution_count": 50,
   "metadata": {},
   "outputs": [],
   "source": [
    "# Solution\n",
    "\n",
    "def EstimateSurvivalByDecade(groups, **options):\n",
    "    \"\"\"Groups respondents by decade and plots survival curves.\n",
    "\n",
    "    groups: GroupBy object\n",
    "    \"\"\"\n",
    "    thinkplot.PrePlot(len(groups))\n",
    "    for name, group in groups:\n",
    "        _, sf = EstimateSurvival(group)\n",
    "        thinkplot.Plot(sf, **options)"
   ]
  },
  {
   "cell_type": "code",
   "execution_count": 51,
   "metadata": {},
   "outputs": [],
   "source": [
    "# Solution\n",
    "\n",
    "def EstimateSurvival(resp):\n",
    "    \"\"\"Estimates the survival curve.\n",
    "\n",
    "    resp: DataFrame of respondents\n",
    "\n",
    "    returns: pair of HazardFunction, SurvivalFunction\n",
    "    \"\"\"\n",
    "    complete = resp[resp.notdivorced == 0].duration.dropna()\n",
    "    ongoing = resp[resp.notdivorced == 1].durationsofar.dropna()\n",
    "\n",
    "    hf = survival.EstimateHazardFunction(complete, ongoing)\n",
    "    sf = hf.MakeSurvival()\n",
    "\n",
    "    return hf, sf"
   ]
  },
  {
   "cell_type": "code",
   "execution_count": 52,
   "metadata": {},
   "outputs": [],
   "source": [
    "\n",
    "def ResampleDivorceCurveByDecade(resps):\n",
    "    \"\"\"Plots divorce curves for each birth cohort.\n",
    "\n",
    "    resps: list of respondent DataFrames    \n",
    "    \"\"\"\n",
    "    for i in range(41):\n",
    "        samples = [thinkstats2.ResampleRowsWeighted(resp) \n",
    "                   for resp in resps]\n",
    "        sample = pd.concat(samples, ignore_index=True)\n",
    "        groups = sample.groupby('decade')\n",
    "        if i == 0:\n",
    "            survival.AddLabelsByDecade(groups, alpha=0.7)\n",
    "\n",
    "        EstimateSurvivalByDecade(groups, alpha=0.1)\n",
    "\n",
    "    thinkplot.Config(xlabel='Years',\n",
    "                     ylabel='Fraction undivorced',\n",
    "                     axis=[0, 28, 0, 1])\n",
    "\n"
   ]
  },
  {
   "cell_type": "code",
   "execution_count": 53,
   "metadata": {},
   "outputs": [],
   "source": [
    "resp5 = survival.ReadFemResp1995()\n",
    "resp6 = survival.ReadFemResp2002()\n",
    "resp7 = survival.ReadFemResp2010()"
   ]
  },
  {
   "cell_type": "code",
   "execution_count": 54,
   "metadata": {},
   "outputs": [],
   "source": [
    "resps = [resp5, resp6, resp7]"
   ]
  },
  {
   "cell_type": "code",
   "execution_count": 55,
   "metadata": {},
   "outputs": [],
   "source": [
    "CleanData(resp6)\n",
    "married6 = resp6[resp6.evrmarry==1]\n",
    "\n",
    "CleanData(resp7)\n",
    "married7 = resp7[resp7.evrmarry==1]"
   ]
  },
  {
   "cell_type": "code",
   "execution_count": 56,
   "metadata": {},
   "outputs": [
    {
     "data": {
      "image/png": "[encoded data removed]",
      "text/plain": [
       "<Figure size 432x288 with 1 Axes>"
      ]
     },
     "metadata": {
      "needs_background": "light"
     },
     "output_type": "display_data"
    }
   ],
   "source": [
    "# Solution\n",
    "\n",
    "ResampleDivorceCurveByDecade([married6, married7])"
   ]
  },
  {
   "cell_type": "code",
   "execution_count": null,
   "metadata": {
    "collapsed": true
   },
   "outputs": [],
   "source": []
  }
 ],
 "metadata": {
  "kernelspec": {
   "display_name": "Python 3",
   "language": "python",
   "name": "python3"
  },
  "language_info": {
   "codemirror_mode": {
    "name": "ipython",
    "version": 3
   },
   "file_extension": ".py",
   "mimetype": "text/x-python",
   "name": "python",
   "nbconvert_exporter": "python",
   "pygments_lexer": "ipython3",
   "version": "3.8.5"
  }
 },
 "nbformat": 4,
 "nbformat_minor": 1
}
