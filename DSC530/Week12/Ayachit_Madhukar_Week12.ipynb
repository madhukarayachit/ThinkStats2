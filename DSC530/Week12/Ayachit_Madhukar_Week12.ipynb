{
 "cells": [
  {
   "cell_type": "code",
   "execution_count": 3,
   "metadata": {},
   "outputs": [],
   "source": [
    "# setting uop working directory\n",
    "import os\n",
    "os.getcwd() \n",
    "import sys\n",
    "sys.path.append('../ThinkStats2-master/code')"
   ]
  },
  {
   "cell_type": "code",
   "execution_count": 12,
   "metadata": {},
   "outputs": [],
   "source": [
    "import pandas as pd \n",
    "import numpy as np\n",
    "import pandas as pd\n",
    "\n",
    "import thinkstats2\n",
    "import thinkplot\n",
    "  \n",
    "# creating a data frame \n",
    "\n",
    "gss = pd.read_csv(\"GSS7218_R3.csv\", sep=',', error_bad_lines=False, index_col=False, dtype='unicode')\n",
    "                                          \n",
    "                                          \n"
   ]
  },
  {
   "cell_type": "code",
   "execution_count": 50,
   "metadata": {},
   "outputs": [],
   "source": [
    "gss_clean = gss[[\"YEAR\",\"SEX\",\"AGE\",\"INCOME\",\"COHORT\",\"RACE\",\"EDUC\",\"REALINC\",\"WTSSALL\"]].copy()\n"
   ]
  },
  {
   "cell_type": "code",
   "execution_count": 51,
   "metadata": {},
   "outputs": [],
   "source": [
    "# Original dataset file is hige , can not upload original dataset file. Creating a subset si I can upload it \n",
    "gss_clean.to_csv(\"Clean_data.csv\")"
   ]
  },
  {
   "cell_type": "code",
   "execution_count": 19,
   "metadata": {
    "scrolled": true
   },
   "outputs": [],
   "source": [
    "# Compute the PMF for year\n",
    "pmf_year=thinkstats2.Pmf(gss_clean.YEAR)\n"
   ]
  },
  {
   "cell_type": "code",
   "execution_count": 21,
   "metadata": {},
   "outputs": [],
   "source": [
    "age = gss_clean['AGE']"
   ]
  },
  {
   "cell_type": "code",
   "execution_count": 65,
   "metadata": {},
   "outputs": [],
   "source": [
    "pmf_age = thinkstats2.Pmf(gss_clean.AGE.astype(float))"
   ]
  },
  {
   "cell_type": "code",
   "execution_count": 66,
   "metadata": {},
   "outputs": [
    {
     "data": {
      "image/png": "[encoded data removed]",
      "text/plain": [
       "<Figure size 432x288 with 1 Axes>"
      ]
     },
     "metadata": {
      "needs_background": "light"
     },
     "output_type": "display_data"
    }
   ],
   "source": [
    "\n",
    "# Plot the PMF\n",
    " \n",
    "# Label the axes\n",
    "thinkplot.Pmf(pmf_age,linewidth=0.5)\n",
    "thinkplot.Config(xlabel='Age', ylabel='PMF')\n",
    "\n",
    "\n",
    "\n"
   ]
  },
  {
   "cell_type": "code",
   "execution_count": 67,
   "metadata": {},
   "outputs": [
    {
     "data": {
      "image/png": "[encoded data removed]",
      "text/plain": [
       "<Figure size 432x288 with 1 Axes>"
      ]
     },
     "metadata": {
      "needs_background": "light"
     },
     "output_type": "display_data"
    }
   ],
   "source": [
    "# Select realinc\n",
    "\n",
    "\n",
    "income = gss_clean.REALINC\n",
    " \n",
    "# Make the CDF\n",
    "cdf_income = thinkstats2.Cdf(income)\n",
    "thinkplot.Cdf(cdf_income)\n",
    "thinkplot.Config(xlabel='Income (1986 USD)', ylabel='CDF')\n",
    "\n",
    "\n"
   ]
  },
  {
   "cell_type": "code",
   "execution_count": 68,
   "metadata": {},
   "outputs": [
    {
     "data": {
      "text/plain": [
       "Cdf(['0' '1' '10' '11' '12' '13' '14' '15' '16' '17' '18' '19' '2' '20' '3'\n",
       " '4' '5' '6' '7' '8' '9' '98' '99'], [0.00254575 0.0032709  0.04770574 0.10545561 0.40883143 0.49152961\n",
       " 0.60199957 0.64689728 0.77580461 0.80615299 0.84293517 0.85712963\n",
       " 0.8594748  0.8816768  0.88564199 0.89056377 0.89676613 0.90954115\n",
       " 0.92310303 0.96513099 0.99726911 0.99839541 1.        ])"
      ]
     },
     "execution_count": 68,
     "metadata": {},
     "output_type": "execute_result"
    }
   ],
   "source": [
    "thinkstats2.Cdf(gss_clean.EDUC)"
   ]
  },
  {
   "cell_type": "code",
   "execution_count": 69,
   "metadata": {},
   "outputs": [
    {
     "data": {
      "text/plain": [
       "count    64814.000000\n",
       "mean        13.103774\n",
       "std          5.483884\n",
       "min          0.000000\n",
       "25%         12.000000\n",
       "50%         12.000000\n",
       "75%         15.000000\n",
       "max         99.000000\n",
       "Name: EDUC, dtype: float64"
      ]
     },
     "execution_count": 69,
     "metadata": {},
     "output_type": "execute_result"
    }
   ],
   "source": [
    "educ = gss_clean['EDUC'].astype(int)\n",
    "educ.describe()\n"
   ]
  },
  {
   "cell_type": "code",
   "execution_count": 70,
   "metadata": {},
   "outputs": [
    {
     "name": "stdout",
     "output_type": "stream",
     "text": [
      "0.5267689079519857\n"
     ]
    }
   ],
   "source": [
    "# Bachelor's degree\n",
    "bach = (educ >= 16)\n",
    " \n",
    "# Associate degree\n",
    "assc = (educ >= 14) & (educ < 16)\n",
    "\n",
    "# High school (12 or fewer years of education)\n",
    "high = (educ <= 12)\n",
    "print(high.mean())"
   ]
  },
  {
   "cell_type": "code",
   "execution_count": 71,
   "metadata": {},
   "outputs": [
    {
     "data": {
      "text/plain": [
       "(0         True\n",
       " 1        False\n",
       " 2        False\n",
       " 3         True\n",
       " 4        False\n",
       "          ...  \n",
       " 64809    False\n",
       " 64810    False\n",
       " 64811    False\n",
       " 64812     True\n",
       " 64813    False\n",
       " Name: EDUC, Length: 64814, dtype: bool,\n",
       " 0        False\n",
       " 1        False\n",
       " 2        False\n",
       " 3        False\n",
       " 4        False\n",
       "          ...  \n",
       " 64809    False\n",
       " 64810    False\n",
       " 64811    False\n",
       " 64812    False\n",
       " 64813    False\n",
       " Name: EDUC, Length: 64814, dtype: bool)"
      ]
     },
     "execution_count": 71,
     "metadata": {},
     "output_type": "execute_result"
    }
   ],
   "source": [
    "bach,assc"
   ]
  },
  {
   "cell_type": "code",
   "execution_count": 72,
   "metadata": {},
   "outputs": [
    {
     "data": {
      "text/plain": [
       "count     64814\n",
       "unique       32\n",
       "top        2006\n",
       "freq       4510\n",
       "Name: YEAR, dtype: object"
      ]
     },
     "execution_count": 72,
     "metadata": {},
     "output_type": "execute_result"
    }
   ],
   "source": [
    "gss_clean.YEAR.describe()"
   ]
  },
  {
   "cell_type": "code",
   "execution_count": 73,
   "metadata": {},
   "outputs": [],
   "source": [
    "pre95=gss_clean.YEAR.astype(int) < 1995"
   ]
  },
  {
   "cell_type": "code",
   "execution_count": 74,
   "metadata": {},
   "outputs": [
    {
     "data": {
      "image/png": "[encoded data removed]",
      "text/plain": [
       "<Figure size 432x288 with 1 Axes>"
      ]
     },
     "metadata": {
      "needs_background": "light"
     },
     "output_type": "display_data"
    }
   ],
   "source": [
    "income[pre95]\n",
    "income[~pre95]\n",
    "\n",
    "income_pre95=thinkstats2.Cdf(income[pre95],label='Pre95')\n",
    "income_post95=thinkstats2.Cdf(income[~pre95],label='Post95')\n",
    "\n",
    "thinkplot.PrePlot(2)\n",
    "\n",
    "thinkplot.Cdfs([income_pre95, income_post95])\n",
    "thinkplot.Config(xlabel='pre/post 95', ylabel='CDF')\n",
    "\n"
   ]
  },
  {
   "cell_type": "code",
   "execution_count": 75,
   "metadata": {},
   "outputs": [
    {
     "data": {
      "image/png": "[encoded data removed]",
      "text/plain": [
       "<Figure size 432x288 with 1 Axes>"
      ]
     },
     "metadata": {
      "needs_background": "light"
     },
     "output_type": "display_data"
    }
   ],
   "source": [
    "\n",
    "# Label the axes\n",
    "\n",
    "income_high=thinkstats2.Cdf(income[high],label='High school')\n",
    "income_assc=thinkstats2.Cdf(income[assc],label='Associate')\n",
    "income_batch=thinkstats2.Cdf(income[bach],label='Bachelor')\n",
    "\n",
    "thinkplot.PrePlot(3)\n",
    "\n",
    "thinkplot.Cdfs([income_high, income_assc,income_batch])\n",
    "thinkplot.Config(xlabel='Education', ylabel='CDF')"
   ]
  },
  {
   "cell_type": "code",
   "execution_count": 80,
   "metadata": {},
   "outputs": [
    {
     "data": {
      "text/plain": [
       "count     64814.000000\n",
       "mean      28548.912992\n",
       "std       29584.666171\n",
       "min           0.000000\n",
       "25%        8595.000000\n",
       "50%       21060.000000\n",
       "75%       37455.000000\n",
       "max      162607.000000\n",
       "Name: REALINC, dtype: float64"
      ]
     },
     "execution_count": 80,
     "metadata": {},
     "output_type": "execute_result"
    }
   ],
   "source": [
    "\n",
    "income_ft=income.astype(float)\n",
    "income_ft.describe()"
   ]
  },
  {
   "cell_type": "code",
   "execution_count": 81,
   "metadata": {},
   "outputs": [
    {
     "name": "stdout",
     "output_type": "stream",
     "text": [
      "3.2804697678882446 3.1326461920991147\n"
     ]
    }
   ],
   "source": [
    "# Extract realinc and compute its log\n",
    "\n",
    "log_income = np.log10(income_ft+.000001)\n",
    " \n",
    "# Compute mean and standard deviation\n",
    "mean = np.mean(log_income)\n",
    "std = np.std(log_income)\n",
    "print(mean, std)\n",
    "# 4.371148677934171 0.42900437330100427\n",
    " \n",
    "# Make a norm object\n",
    "from scipy.stats import norm\n",
    "dist = norm(mean,std)"
   ]
  },
  {
   "cell_type": "code",
   "execution_count": 82,
   "metadata": {},
   "outputs": [
    {
     "data": {
      "image/png": "[encoded data removed]",
      "text/plain": [
       "<Figure size 432x288 with 1 Axes>"
      ]
     },
     "metadata": {
      "needs_background": "light"
     },
     "output_type": "display_data"
    }
   ],
   "source": [
    "\n",
    "cdf = thinkstats2.Cdf(log_income)\n",
    "thinkplot.Cdf(cdf)\n",
    "thinkplot.Config(xlabel='log10 of realinc', ylabel='CDF')"
   ]
  },
  {
   "cell_type": "code",
   "execution_count": null,
   "metadata": {},
   "outputs": [],
   "source": []
  }
 ],
 "metadata": {
  "kernelspec": {
   "display_name": "Python 3",
   "language": "python",
   "name": "python3"
  },
  "language_info": {
   "codemirror_mode": {
    "name": "ipython",
    "version": 3
   },
   "file_extension": ".py",
   "mimetype": "text/x-python",
   "name": "python",
   "nbconvert_exporter": "python",
   "pygments_lexer": "ipython3",
   "version": "3.8.5"
  }
 },
 "nbformat": 4,
 "nbformat_minor": 4
}
