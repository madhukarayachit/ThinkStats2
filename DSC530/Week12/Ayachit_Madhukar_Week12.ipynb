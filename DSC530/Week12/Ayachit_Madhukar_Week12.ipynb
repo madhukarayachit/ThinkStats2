{
 "cells": [
  {
   "cell_type": "code",
   "execution_count": 1,
   "metadata": {},
   "outputs": [],
   "source": [
    "# setting uop working directory\n",
    "import os\n",
    "os.getcwd() \n",
    "import sys\n",
    "sys.path.append('../ThinkStats2-master/code')"
   ]
  },
  {
   "cell_type": "code",
   "execution_count": 2,
   "metadata": {},
   "outputs": [],
   "source": [
    "import pandas as pd \n",
    "import numpy as np\n",
    "import pandas as pd\n",
    "\n",
    "import thinkstats2\n",
    "import thinkplot\n",
    "  \n",
    "# creating a data frame \n",
    "\n",
    "gss = pd.read_csv(\"GSS7218_R3.csv\", sep=',', error_bad_lines=False, index_col=False, dtype='unicode')\n",
    "#gss = pd.read_csv(\"GSS7218_R3.csv\")                                      \n",
    "                                        "
   ]
  },
  {
   "cell_type": "raw",
   "metadata": {},
   "source": [
    "gss"
   ]
  },
  {
   "cell_type": "code",
   "execution_count": 3,
   "metadata": {},
   "outputs": [],
   "source": [
    "gss_clean = gss[[\"YEAR\",\"SEX\",\"AGE\",\"INCOME\",\"COHORT\",\"RACE\",\"EDUC\",\"REALINC\",\"WTSSALL\"]].copy()\n"
   ]
  },
  {
   "cell_type": "code",
   "execution_count": 4,
   "metadata": {},
   "outputs": [],
   "source": [
    "# Original dataset file is hige , can not upload original dataset file. Creating a subset si I can upload it \n",
    "gss_clean.to_csv(\"Clean_data.csv\")"
   ]
  },
  {
   "cell_type": "code",
   "execution_count": 5,
   "metadata": {},
   "outputs": [
    {
     "data": {
      "text/html": [
       "<div>\n",
       "<style scoped>\n",
       "    .dataframe tbody tr th:only-of-type {\n",
       "        vertical-align: middle;\n",
       "    }\n",
       "\n",
       "    .dataframe tbody tr th {\n",
       "        vertical-align: top;\n",
       "    }\n",
       "\n",
       "    .dataframe thead th {\n",
       "        text-align: right;\n",
       "    }\n",
       "</style>\n",
       "<table border=\"1\" class=\"dataframe\">\n",
       "  <thead>\n",
       "    <tr style=\"text-align: right;\">\n",
       "      <th></th>\n",
       "      <th>YEAR</th>\n",
       "      <th>SEX</th>\n",
       "      <th>AGE</th>\n",
       "      <th>INCOME</th>\n",
       "      <th>COHORT</th>\n",
       "      <th>RACE</th>\n",
       "      <th>EDUC</th>\n",
       "      <th>REALINC</th>\n",
       "      <th>WTSSALL</th>\n",
       "    </tr>\n",
       "  </thead>\n",
       "  <tbody>\n",
       "    <tr>\n",
       "      <th>0</th>\n",
       "      <td>1972</td>\n",
       "      <td>2</td>\n",
       "      <td>23</td>\n",
       "      <td>0</td>\n",
       "      <td>1949</td>\n",
       "      <td>1</td>\n",
       "      <td>16</td>\n",
       "      <td>18951</td>\n",
       "      <td>.4446</td>\n",
       "    </tr>\n",
       "    <tr>\n",
       "      <th>1</th>\n",
       "      <td>1972</td>\n",
       "      <td>1</td>\n",
       "      <td>70</td>\n",
       "      <td>0</td>\n",
       "      <td>1902</td>\n",
       "      <td>1</td>\n",
       "      <td>10</td>\n",
       "      <td>24366</td>\n",
       "      <td>.8893</td>\n",
       "    </tr>\n",
       "    <tr>\n",
       "      <th>2</th>\n",
       "      <td>1972</td>\n",
       "      <td>2</td>\n",
       "      <td>48</td>\n",
       "      <td>0</td>\n",
       "      <td>1924</td>\n",
       "      <td>1</td>\n",
       "      <td>12</td>\n",
       "      <td>24366</td>\n",
       "      <td>.8893</td>\n",
       "    </tr>\n",
       "    <tr>\n",
       "      <th>3</th>\n",
       "      <td>1972</td>\n",
       "      <td>2</td>\n",
       "      <td>27</td>\n",
       "      <td>0</td>\n",
       "      <td>1945</td>\n",
       "      <td>1</td>\n",
       "      <td>17</td>\n",
       "      <td>30458</td>\n",
       "      <td>.8893</td>\n",
       "    </tr>\n",
       "    <tr>\n",
       "      <th>4</th>\n",
       "      <td>1972</td>\n",
       "      <td>2</td>\n",
       "      <td>61</td>\n",
       "      <td>0</td>\n",
       "      <td>1911</td>\n",
       "      <td>1</td>\n",
       "      <td>12</td>\n",
       "      <td>50763</td>\n",
       "      <td>.8893</td>\n",
       "    </tr>\n",
       "    <tr>\n",
       "      <th>...</th>\n",
       "      <td>...</td>\n",
       "      <td>...</td>\n",
       "      <td>...</td>\n",
       "      <td>...</td>\n",
       "      <td>...</td>\n",
       "      <td>...</td>\n",
       "      <td>...</td>\n",
       "      <td>...</td>\n",
       "      <td>...</td>\n",
       "    </tr>\n",
       "    <tr>\n",
       "      <th>64809</th>\n",
       "      <td>2018</td>\n",
       "      <td>2</td>\n",
       "      <td>37</td>\n",
       "      <td>13</td>\n",
       "      <td>1981</td>\n",
       "      <td>1</td>\n",
       "      <td>12</td>\n",
       "      <td>0</td>\n",
       "      <td>.47149855482662</td>\n",
       "    </tr>\n",
       "    <tr>\n",
       "      <th>64810</th>\n",
       "      <td>2018</td>\n",
       "      <td>2</td>\n",
       "      <td>75</td>\n",
       "      <td>12</td>\n",
       "      <td>1943</td>\n",
       "      <td>1</td>\n",
       "      <td>12</td>\n",
       "      <td>14755</td>\n",
       "      <td>.94299710965324</td>\n",
       "    </tr>\n",
       "    <tr>\n",
       "      <th>64811</th>\n",
       "      <td>2018</td>\n",
       "      <td>2</td>\n",
       "      <td>67</td>\n",
       "      <td>12</td>\n",
       "      <td>1951</td>\n",
       "      <td>1</td>\n",
       "      <td>12</td>\n",
       "      <td>45400</td>\n",
       "      <td>.94299710965324</td>\n",
       "    </tr>\n",
       "    <tr>\n",
       "      <th>64812</th>\n",
       "      <td>2018</td>\n",
       "      <td>1</td>\n",
       "      <td>72</td>\n",
       "      <td>12</td>\n",
       "      <td>1946</td>\n",
       "      <td>1</td>\n",
       "      <td>16</td>\n",
       "      <td>24970</td>\n",
       "      <td>.94299710965324</td>\n",
       "    </tr>\n",
       "    <tr>\n",
       "      <th>64813</th>\n",
       "      <td>2018</td>\n",
       "      <td>2</td>\n",
       "      <td>79</td>\n",
       "      <td>13</td>\n",
       "      <td>1939</td>\n",
       "      <td>1</td>\n",
       "      <td>12</td>\n",
       "      <td>0</td>\n",
       "      <td>.47149855482662</td>\n",
       "    </tr>\n",
       "  </tbody>\n",
       "</table>\n",
       "<p>64814 rows × 9 columns</p>\n",
       "</div>"
      ],
      "text/plain": [
       "       YEAR SEX AGE INCOME COHORT RACE EDUC REALINC          WTSSALL\n",
       "0      1972   2  23      0   1949    1   16   18951            .4446\n",
       "1      1972   1  70      0   1902    1   10   24366            .8893\n",
       "2      1972   2  48      0   1924    1   12   24366            .8893\n",
       "3      1972   2  27      0   1945    1   17   30458            .8893\n",
       "4      1972   2  61      0   1911    1   12   50763            .8893\n",
       "...     ...  ..  ..    ...    ...  ...  ...     ...              ...\n",
       "64809  2018   2  37     13   1981    1   12       0  .47149855482662\n",
       "64810  2018   2  75     12   1943    1   12   14755  .94299710965324\n",
       "64811  2018   2  67     12   1951    1   12   45400  .94299710965324\n",
       "64812  2018   1  72     12   1946    1   16   24970  .94299710965324\n",
       "64813  2018   2  79     13   1939    1   12       0  .47149855482662\n",
       "\n",
       "[64814 rows x 9 columns]"
      ]
     },
     "execution_count": 5,
     "metadata": {},
     "output_type": "execute_result"
    }
   ],
   "source": [
    "gss_clean"
   ]
  },
  {
   "cell_type": "code",
   "execution_count": 6,
   "metadata": {
    "scrolled": true
   },
   "outputs": [],
   "source": [
    "# Compute the PMF for year\n",
    "pmf_year=thinkstats2.Pmf(gss_clean.YEAR)\n"
   ]
  },
  {
   "cell_type": "code",
   "execution_count": 7,
   "metadata": {},
   "outputs": [],
   "source": [
    "age = gss_clean['AGE']"
   ]
  },
  {
   "cell_type": "code",
   "execution_count": 8,
   "metadata": {},
   "outputs": [],
   "source": [
    "pmf_age = thinkstats2.Pmf(gss_clean.AGE.astype(float))"
   ]
  },
  {
   "cell_type": "code",
   "execution_count": 9,
   "metadata": {},
   "outputs": [
    {
     "data": {
      "image/png": "[encoded data removed]",
      "text/plain": [
       "<Figure size 432x288 with 1 Axes>"
      ]
     },
     "metadata": {
      "needs_background": "light"
     },
     "output_type": "display_data"
    }
   ],
   "source": [
    "\n",
    "# Plot the PMF\n",
    " \n",
    "# Label the axes\n",
    "thinkplot.Pmf(pmf_age,linewidth=0.5)\n",
    "thinkplot.Config(xlabel='Age', ylabel='PMF')\n",
    "\n",
    "\n",
    "\n"
   ]
  },
  {
   "cell_type": "code",
   "execution_count": 10,
   "metadata": {},
   "outputs": [
    {
     "data": {
      "image/png": "[encoded data removed]",
      "text/plain": [
       "<Figure size 432x288 with 1 Axes>"
      ]
     },
     "metadata": {
      "needs_background": "light"
     },
     "output_type": "display_data"
    }
   ],
   "source": [
    "# Select realinc\n",
    "\n",
    "\n",
    "income = gss_clean.REALINC\n",
    " \n",
    "# Make the CDF\n",
    "cdf_income = thinkstats2.Cdf(income)\n",
    "thinkplot.Cdf(cdf_income)\n",
    "thinkplot.Config(xlabel='Income (1986 USD)', ylabel='CDF')\n",
    "\n",
    "\n"
   ]
  },
  {
   "cell_type": "code",
   "execution_count": 11,
   "metadata": {},
   "outputs": [
    {
     "data": {
      "text/plain": [
       "Cdf(['0' '1' '10' '11' '12' '13' '14' '15' '16' '17' '18' '19' '2' '20' '3'\n",
       " '4' '5' '6' '7' '8' '9' '98' '99'], [0.00254575 0.0032709  0.04770574 0.10545561 0.40883143 0.49152961\n",
       " 0.60199957 0.64689728 0.77580461 0.80615299 0.84293517 0.85712963\n",
       " 0.8594748  0.8816768  0.88564199 0.89056377 0.89676613 0.90954115\n",
       " 0.92310303 0.96513099 0.99726911 0.99839541 1.        ])"
      ]
     },
     "execution_count": 11,
     "metadata": {},
     "output_type": "execute_result"
    }
   ],
   "source": [
    "thinkstats2.Cdf(gss_clean.EDUC)"
   ]
  },
  {
   "cell_type": "code",
   "execution_count": 12,
   "metadata": {},
   "outputs": [
    {
     "data": {
      "text/plain": [
       "count    64814.000000\n",
       "mean        13.103774\n",
       "std          5.483884\n",
       "min          0.000000\n",
       "25%         12.000000\n",
       "50%         12.000000\n",
       "75%         15.000000\n",
       "max         99.000000\n",
       "Name: EDUC, dtype: float64"
      ]
     },
     "execution_count": 12,
     "metadata": {},
     "output_type": "execute_result"
    }
   ],
   "source": [
    "educ = gss_clean['EDUC'].astype(int)\n",
    "educ.describe()\n"
   ]
  },
  {
   "cell_type": "code",
   "execution_count": 13,
   "metadata": {},
   "outputs": [
    {
     "name": "stdout",
     "output_type": "stream",
     "text": [
      "0.5267689079519857\n"
     ]
    }
   ],
   "source": [
    "# Bachelor's degree\n",
    "bach = (educ >= 16)\n",
    " \n",
    "# Associate degree\n",
    "assc = (educ >= 14) & (educ < 16)\n",
    "\n",
    "# High school (12 or fewer years of education)\n",
    "high = (educ <= 12)\n",
    "print(high.mean())"
   ]
  },
  {
   "cell_type": "code",
   "execution_count": 14,
   "metadata": {},
   "outputs": [
    {
     "data": {
      "text/plain": [
       "(0         True\n",
       " 1        False\n",
       " 2        False\n",
       " 3         True\n",
       " 4        False\n",
       "          ...  \n",
       " 64809    False\n",
       " 64810    False\n",
       " 64811    False\n",
       " 64812     True\n",
       " 64813    False\n",
       " Name: EDUC, Length: 64814, dtype: bool,\n",
       " 0        False\n",
       " 1        False\n",
       " 2        False\n",
       " 3        False\n",
       " 4        False\n",
       "          ...  \n",
       " 64809    False\n",
       " 64810    False\n",
       " 64811    False\n",
       " 64812    False\n",
       " 64813    False\n",
       " Name: EDUC, Length: 64814, dtype: bool)"
      ]
     },
     "execution_count": 14,
     "metadata": {},
     "output_type": "execute_result"
    }
   ],
   "source": [
    "bach,assc"
   ]
  },
  {
   "cell_type": "code",
   "execution_count": 15,
   "metadata": {},
   "outputs": [
    {
     "data": {
      "text/plain": [
       "count     64814\n",
       "unique       32\n",
       "top        2006\n",
       "freq       4510\n",
       "Name: YEAR, dtype: object"
      ]
     },
     "execution_count": 15,
     "metadata": {},
     "output_type": "execute_result"
    }
   ],
   "source": [
    "gss_clean.YEAR.describe()"
   ]
  },
  {
   "cell_type": "code",
   "execution_count": 16,
   "metadata": {},
   "outputs": [],
   "source": [
    "\n",
    "pre95=gss_clean.YEAR.astype(int) < 1995"
   ]
  },
  {
   "cell_type": "code",
   "execution_count": 17,
   "metadata": {},
   "outputs": [
    {
     "data": {
      "image/png": "[encoded data removed]",
      "text/plain": [
       "<Figure size 432x288 with 1 Axes>"
      ]
     },
     "metadata": {
      "needs_background": "light"
     },
     "output_type": "display_data"
    }
   ],
   "source": [
    "income_pre95=income[pre95]\n",
    "income_post95=income[~pre95]\n",
    "\n",
    "income_pre95=thinkstats2.Cdf(income[pre95],label='Pre95')\n",
    "income_post95=thinkstats2.Cdf(income[~pre95],label='Post95')\n",
    "\n",
    "thinkplot.PrePlot(2)\n",
    "\n",
    "thinkplot.Cdfs([income_pre95, income_post95])\n",
    "thinkplot.Config(xlabel='pre/post 95', ylabel='CDF')\n",
    "\n"
   ]
  },
  {
   "cell_type": "code",
   "execution_count": 18,
   "metadata": {},
   "outputs": [
    {
     "data": {
      "image/png": "[encoded data removed]",
      "text/plain": [
       "<Figure size 432x288 with 1 Axes>"
      ]
     },
     "metadata": {
      "needs_background": "light"
     },
     "output_type": "display_data"
    }
   ],
   "source": [
    "\n",
    "# Label the axes\n",
    "\n",
    "income_high=thinkstats2.Cdf(income[high],label='High school')\n",
    "income_assc=thinkstats2.Cdf(income[assc],label='Associate')\n",
    "income_batch=thinkstats2.Cdf(income[bach],label='Bachelor')\n",
    "\n",
    "thinkplot.PrePlot(3)\n",
    "\n",
    "thinkplot.Cdfs([income_high, income_assc,income_batch])\n",
    "thinkplot.Config(xlabel='Education', ylabel='CDF')"
   ]
  },
  {
   "cell_type": "code",
   "execution_count": 19,
   "metadata": {},
   "outputs": [
    {
     "data": {
      "text/plain": [
       "count     64814.000000\n",
       "mean      28548.912992\n",
       "std       29584.666171\n",
       "min           0.000000\n",
       "25%        8595.000000\n",
       "50%       21060.000000\n",
       "75%       37455.000000\n",
       "max      162607.000000\n",
       "Name: REALINC, dtype: float64"
      ]
     },
     "execution_count": 19,
     "metadata": {},
     "output_type": "execute_result"
    }
   ],
   "source": [
    "\n",
    "income_ft=income.astype(float)\n",
    "income_ft.describe()"
   ]
  },
  {
   "cell_type": "code",
   "execution_count": 20,
   "metadata": {},
   "outputs": [
    {
     "name": "stdout",
     "output_type": "stream",
     "text": [
      "3.2804697678882446 3.1326461920991147\n"
     ]
    }
   ],
   "source": [
    "# Extract realinc and compute its log\n",
    "\n",
    "log_income = np.log10(income_ft+.000001)\n",
    " \n",
    "# Compute mean and standard deviation\n",
    "mean = np.mean(log_income)\n",
    "std = np.std(log_income)\n",
    "print(mean, std)\n",
    "# 4.371148677934171 0.42900437330100427\n",
    " \n",
    "# Make a norm object\n",
    "from scipy.stats import norm\n",
    "dist = norm(mean,std)"
   ]
  },
  {
   "cell_type": "code",
   "execution_count": 21,
   "metadata": {},
   "outputs": [
    {
     "data": {
      "image/png": "[encoded data removed]",
      "text/plain": [
       "<Figure size 432x288 with 1 Axes>"
      ]
     },
     "metadata": {
      "needs_background": "light"
     },
     "output_type": "display_data"
    }
   ],
   "source": [
    "\n",
    "cdf = thinkstats2.Cdf(log_income)\n",
    "thinkplot.Cdf(cdf)\n",
    "thinkplot.Config(xlabel='log10 of realinc', ylabel='CDF')"
   ]
  },
  {
   "cell_type": "code",
   "execution_count": 46,
   "metadata": {},
   "outputs": [
    {
     "data": {
      "text/plain": [
       "count    64814.000000\n",
       "mean      1994.939180\n",
       "std         13.465368\n",
       "min       1972.000000\n",
       "25%       1984.000000\n",
       "50%       1996.000000\n",
       "75%       2006.000000\n",
       "max       2018.000000\n",
       "Name: YEAR, dtype: float64"
      ]
     },
     "execution_count": 46,
     "metadata": {},
     "output_type": "execute_result"
    }
   ],
   "source": [
    "#Histogram of 5 variables\n",
    "gss_clean.YEAR.astype(int).describe()"
   ]
  },
  {
   "cell_type": "code",
   "execution_count": 47,
   "metadata": {},
   "outputs": [
    {
     "data": {
      "image/png": "[encoded data removed]",
      "text/plain": [
       "<Figure size 432x288 with 1 Axes>"
      ]
     },
     "metadata": {
      "needs_background": "light"
     },
     "output_type": "display_data"
    }
   ],
   "source": [
    "hist_year=thinkstats2.Hist(gss_clean.YEAR)\n",
    "thinkplot.Hist(hist_year)"
   ]
  },
  {
   "cell_type": "code",
   "execution_count": 48,
   "metadata": {},
   "outputs": [
    {
     "name": "stdout",
     "output_type": "stream",
     "text": [
      "1951.0 2039.0\n",
      "Series([], Name: AGE, dtype: object)\n",
      "0        True\n",
      "1        True\n",
      "2        True\n",
      "3        True\n",
      "4        True\n",
      "         ... \n",
      "64809    True\n",
      "64810    True\n",
      "64811    True\n",
      "64812    True\n",
      "64813    True\n",
      "Name: YEAR, Length: 64814, dtype: bool\n"
     ]
    },
    {
     "data": {
      "image/png": "[encoded data removed]",
      "text/plain": [
       "<Figure size 432x288 with 1 Axes>"
      ]
     },
     "metadata": {
      "needs_background": "light"
     },
     "output_type": "display_data"
    }
   ],
   "source": [
    "# determining outliers in the data \n",
    "Q1=gss_clean.YEAR.astype(int).quantile(0.25)\n",
    "Q3=gss_clean.YEAR.astype(int).quantile(0.75)\n",
    "IQR=Q3 - Q1\n",
    "lower_limit=Q1 - 1.5*IQR\n",
    "upper_limit= Q3 + 1.5*IQR\n",
    "print(lower_limit,upper_limit)\n",
    "\n",
    "\n",
    "\n",
    "outlier=(gss_clean.YEAR.astype(int) < lower_limit ) | (gss_clean.YEAR.astype(int) > upper_limit)\n",
    "year_clean= (gss_clean.YEAR.astype(int) <= upper_limit )& (gss_clean.YEAR.astype(int) >= lower_limit)\n",
    "\n",
    "print(gss_clean.AGE[outlier])\n",
    "print(year_clean)\n",
    "\n",
    "clean_hist=thinkstats2.Hist(gss_clean.YEAR[year_clean])\n",
    "\n",
    "thinkplot.Hist(clean_hist)"
   ]
  },
  {
   "cell_type": "code",
   "execution_count": 49,
   "metadata": {},
   "outputs": [
    {
     "data": {
      "image/png": "[encoded data removed]",
      "text/plain": [
       "<Figure size 432x288 with 1 Axes>"
      ]
     },
     "metadata": {
      "needs_background": "light"
     },
     "output_type": "display_data"
    }
   ],
   "source": [
    "hist_age=thinkstats2.Hist(gss_clean.AGE)\n",
    "thinkplot.Hist(hist_age)"
   ]
  },
  {
   "cell_type": "code",
   "execution_count": 50,
   "metadata": {},
   "outputs": [
    {
     "data": {
      "text/plain": [
       "count    64814.000000\n",
       "mean        46.285432\n",
       "std         17.781802\n",
       "min         18.000000\n",
       "25%         32.000000\n",
       "50%         44.000000\n",
       "75%         59.000000\n",
       "max         99.000000\n",
       "Name: AGE, dtype: float64"
      ]
     },
     "execution_count": 50,
     "metadata": {},
     "output_type": "execute_result"
    }
   ],
   "source": [
    "\n",
    "gss_clean.AGE.astype(int).describe()"
   ]
  },
  {
   "cell_type": "code",
   "execution_count": 51,
   "metadata": {},
   "outputs": [
    {
     "name": "stdout",
     "output_type": "stream",
     "text": [
      "18 99.5\n",
      "Series([], Name: AGE, dtype: object)\n",
      "0        True\n",
      "1        True\n",
      "2        True\n",
      "3        True\n",
      "4        True\n",
      "         ... \n",
      "64809    True\n",
      "64810    True\n",
      "64811    True\n",
      "64812    True\n",
      "64813    True\n",
      "Name: AGE, Length: 64814, dtype: bool\n"
     ]
    },
    {
     "data": {
      "image/png": "[encoded data removed]",
      "text/plain": [
       "<Figure size 432x288 with 1 Axes>"
      ]
     },
     "metadata": {
      "needs_background": "light"
     },
     "output_type": "display_data"
    }
   ],
   "source": [
    "# Determines outliers in the data \n",
    "Q1=gss_clean.AGE.astype(int).quantile(0.25)\n",
    "Q3=gss_clean.AGE.astype(int).quantile(0.75)\n",
    "IQR=Q3 - Q1\n",
    "lower_limit=Q1 - 1.5*IQR\n",
    "upper_limit= Q3 + 1.5*IQR\n",
    "\n",
    "\n",
    "lower_limit=18\n",
    "print(lower_limit,upper_limit)\n",
    "\n",
    "outlier=(gss_clean.AGE.astype(int) < lower_limit ) | (gss_clean.AGE.astype(int) > upper_limit)\n",
    "age_clean= (gss_clean.AGE.astype(int) < upper_limit )& (gss_clean.AGE.astype(int) > lower_limit)\n",
    "\n",
    "print(gss_clean.AGE[outlier])\n",
    "print(age_clean)\n",
    "\n",
    "ages=gss_clean.AGE[age_clean]\n",
    "\n",
    "clean_hist=thinkstats2.Hist(gss_clean.AGE[age_clean])\n",
    "\n",
    "thinkplot.Hist(clean_hist)"
   ]
  },
  {
   "cell_type": "code",
   "execution_count": 52,
   "metadata": {},
   "outputs": [
    {
     "data": {
      "text/plain": [
       "count     64814.000000\n",
       "mean      28548.912992\n",
       "std       29584.666171\n",
       "min           0.000000\n",
       "25%        8595.000000\n",
       "50%       21060.000000\n",
       "75%       37455.000000\n",
       "max      162607.000000\n",
       "Name: REALINC, dtype: float64"
      ]
     },
     "execution_count": 52,
     "metadata": {},
     "output_type": "execute_result"
    }
   ],
   "source": [
    "gss_clean.REALINC.astype(float).describe()"
   ]
  },
  {
   "cell_type": "code",
   "execution_count": 53,
   "metadata": {},
   "outputs": [
    {
     "data": {
      "image/png": "[encoded data removed]",
      "text/plain": [
       "<Figure size 432x288 with 1 Axes>"
      ]
     },
     "metadata": {
      "needs_background": "light"
     },
     "output_type": "display_data"
    }
   ],
   "source": [
    "hist_income=thinkstats2.Hist(gss_clean.REALINC)\n",
    "thinkplot.Hist(hist_income)"
   ]
  },
  {
   "cell_type": "code",
   "execution_count": 54,
   "metadata": {},
   "outputs": [
    {
     "name": "stdout",
     "output_type": "stream",
     "text": [
      "-34695.0 80745.0\n",
      "0 80745.0\n",
      "187            109355\n",
      "188            109355\n",
      "189            109355\n",
      "241            109355\n",
      "244            109355\n",
      "             ...     \n",
      "64565    119879.41732\n",
      "64574    119879.41732\n",
      "64622    119879.41732\n",
      "64637    119879.41732\n",
      "64798    119879.41732\n",
      "Name: REALINC, Length: 4503, dtype: object\n",
      "0         True\n",
      "1         True\n",
      "2         True\n",
      "3         True\n",
      "4         True\n",
      "         ...  \n",
      "64809    False\n",
      "64810     True\n",
      "64811     True\n",
      "64812     True\n",
      "64813    False\n",
      "Name: REALINC, Length: 64814, dtype: bool\n"
     ]
    },
    {
     "data": {
      "image/png": "[encoded data removed]",
      "text/plain": [
       "<Figure size 432x288 with 1 Axes>"
      ]
     },
     "metadata": {
      "needs_background": "light"
     },
     "output_type": "display_data"
    }
   ],
   "source": [
    "# determining outliers in the data \n",
    "Q1=gss_clean.REALINC.astype(float).quantile(0.25)\n",
    "Q3=gss_clean.REALINC.astype(float).quantile(0.75)\n",
    "IQR=Q3 - Q1\n",
    "lower_limit=Q1 - 1.5*IQR\n",
    "upper_limit= Q3 + 1.5*IQR\n",
    "print(lower_limit,upper_limit)\n",
    "\n",
    "lower_limit=0\n",
    "print(lower_limit,upper_limit)\n",
    "outlier=(gss_clean.REALINC.astype(float) < lower_limit ) | (gss_clean.REALINC.astype(float) > upper_limit)\n",
    "income_clean= (gss_clean.REALINC.astype(float) < upper_limit )& (gss_clean.REALINC.astype(float) > lower_limit)\n",
    "\n",
    "print(gss_clean.REALINC[outlier])\n",
    "print(income_clean)\n",
    "\n",
    "income_cl=gss_clean.REALINC[income_clean]\n",
    "\n",
    "clean_hist=thinkstats2.Hist(gss_clean.REALINC[income_clean])\n",
    "\n",
    "thinkplot.Hist(clean_hist)\n"
   ]
  },
  {
   "cell_type": "code",
   "execution_count": 55,
   "metadata": {},
   "outputs": [
    {
     "data": {
      "text/plain": [
       "count    64814.000000\n",
       "mean        13.103774\n",
       "std          5.483884\n",
       "min          0.000000\n",
       "25%         12.000000\n",
       "50%         12.000000\n",
       "75%         15.000000\n",
       "max         99.000000\n",
       "Name: EDUC, dtype: float64"
      ]
     },
     "execution_count": 55,
     "metadata": {},
     "output_type": "execute_result"
    }
   ],
   "source": [
    "gss_clean.EDUC.astype(int).describe()"
   ]
  },
  {
   "cell_type": "code",
   "execution_count": 56,
   "metadata": {},
   "outputs": [
    {
     "data": {
      "image/png": "[encoded data removed]",
      "text/plain": [
       "<Figure size 432x288 with 1 Axes>"
      ]
     },
     "metadata": {
      "needs_background": "light"
     },
     "output_type": "display_data"
    }
   ],
   "source": [
    "hist_edu=thinkstats2.Hist(gss_clean.EDUC)\n",
    "thinkplot.Hist(hist_edu)"
   ]
  },
  {
   "cell_type": "code",
   "execution_count": 57,
   "metadata": {},
   "outputs": [
    {
     "name": "stdout",
     "output_type": "stream",
     "text": [
      "7.5 19.5\n",
      "11        6\n",
      "30        6\n",
      "38        6\n",
      "70        7\n",
      "80        7\n",
      "         ..\n",
      "64764     6\n",
      "64769     6\n",
      "64781    98\n",
      "64783    20\n",
      "64799    20\n",
      "Name: EDUC, Length: 4665, dtype: object\n",
      "0        True\n",
      "1        True\n",
      "2        True\n",
      "3        True\n",
      "4        True\n",
      "         ... \n",
      "64809    True\n",
      "64810    True\n",
      "64811    True\n",
      "64812    True\n",
      "64813    True\n",
      "Name: EDUC, Length: 64814, dtype: bool\n"
     ]
    },
    {
     "data": {
      "image/png": "[encoded data removed]",
      "text/plain": [
       "<Figure size 432x288 with 1 Axes>"
      ]
     },
     "metadata": {
      "needs_background": "light"
     },
     "output_type": "display_data"
    }
   ],
   "source": [
    "# determining outliers in the data \n",
    "Q1=gss_clean.EDUC.astype(int).quantile(0.25)\n",
    "Q3=gss_clean.EDUC.astype(int).quantile(0.75)\n",
    "IQR=Q3 - Q1\n",
    "lower_limit=Q1 - 1.5*IQR\n",
    "upper_limit= Q3 + 1.5*IQR\n",
    "print(lower_limit,upper_limit)\n",
    "\n",
    "\n",
    "\n",
    "outlier=(gss_clean.EDUC.astype(int) < lower_limit ) | (gss_clean.EDUC.astype(int) > upper_limit)\n",
    "edu_clean= (gss_clean.EDUC.astype(int) < upper_limit )& (gss_clean.EDUC.astype(int) > lower_limit)\n",
    "\n",
    "print(gss_clean.EDUC[outlier])\n",
    "print(edu_clean)\n",
    "\n",
    "education=gss_clean.EDUC[edu_clean]\n",
    "\n",
    "clean_hist=thinkstats2.Hist(gss_clean.EDUC[edu_clean])\n",
    "\n",
    "thinkplot.Hist(clean_hist)"
   ]
  },
  {
   "cell_type": "code",
   "execution_count": 58,
   "metadata": {},
   "outputs": [
    {
     "data": {
      "text/plain": [
       "count    64814.000000\n",
       "mean      1977.164625\n",
       "std        477.095733\n",
       "min       1883.000000\n",
       "25%       1935.000000\n",
       "50%       1951.000000\n",
       "75%       1964.000000\n",
       "max       9999.000000\n",
       "Name: COHORT, dtype: float64"
      ]
     },
     "execution_count": 58,
     "metadata": {},
     "output_type": "execute_result"
    }
   ],
   "source": [
    "gss_clean.COHORT.astype(int).describe()"
   ]
  },
  {
   "cell_type": "code",
   "execution_count": 59,
   "metadata": {},
   "outputs": [
    {
     "data": {
      "image/png": "[encoded data removed]",
      "text/plain": [
       "<Figure size 432x288 with 1 Axes>"
      ]
     },
     "metadata": {
      "needs_background": "light"
     },
     "output_type": "display_data"
    }
   ],
   "source": [
    "hist_coho=thinkstats2.Hist(gss_clean.COHORT)\n",
    "thinkplot.Hist(hist_coho)"
   ]
  },
  {
   "cell_type": "code",
   "execution_count": 60,
   "metadata": {},
   "outputs": [
    {
     "name": "stdout",
     "output_type": "stream",
     "text": [
      "1891.5 2007.5\n",
      "141      1888\n",
      "144      1890\n",
      "168      1891\n",
      "228      9999\n",
      "234      1890\n",
      "         ... \n",
      "63124    9999\n",
      "63906    9999\n",
      "63938    9999\n",
      "64027    9999\n",
      "64428    9999\n",
      "Name: COHORT, Length: 342, dtype: object\n",
      "0        True\n",
      "1        True\n",
      "2        True\n",
      "3        True\n",
      "4        True\n",
      "         ... \n",
      "64809    True\n",
      "64810    True\n",
      "64811    True\n",
      "64812    True\n",
      "64813    True\n",
      "Name: EDUC, Length: 64814, dtype: bool\n"
     ]
    },
    {
     "data": {
      "image/png": "[encoded data removed]",
      "text/plain": [
       "<Figure size 432x288 with 1 Axes>"
      ]
     },
     "metadata": {
      "needs_background": "light"
     },
     "output_type": "display_data"
    }
   ],
   "source": [
    "# determining outliers in the data \n",
    "Q1=gss_clean.COHORT.astype(int).quantile(0.25)\n",
    "Q3=gss_clean.COHORT.astype(int).quantile(0.75)\n",
    "IQR=Q3 - Q1\n",
    "lower_limit=Q1 - 1.5*IQR\n",
    "upper_limit= Q3 + 1.5*IQR\n",
    "print(lower_limit,upper_limit)\n",
    "\n",
    "\n",
    "\n",
    "outlier=(gss_clean.COHORT.astype(int) < lower_limit ) | (gss_clean.COHORT.astype(int) > upper_limit)\n",
    "coho_clean= (gss_clean.COHORT.astype(int) < upper_limit )& (gss_clean.COHORT.astype(int) > lower_limit)\n",
    "\n",
    "print(gss_clean.COHORT[outlier])\n",
    "print(edu_clean)\n",
    "\n",
    "clean_hist=thinkstats2.Hist(gss_clean.COHORT[coho_clean])\n",
    "\n",
    "thinkplot.Hist(clean_hist)"
   ]
  },
  {
   "cell_type": "code",
   "execution_count": 61,
   "metadata": {},
   "outputs": [
    {
     "data": {
      "image/png": "[encoded data removed]",
      "text/plain": [
       "<Figure size 432x288 with 1 Axes>"
      ]
     },
     "metadata": {
      "needs_background": "light"
     },
     "output_type": "display_data"
    }
   ],
   "source": [
    "#income_clean=income[income_clean]\n",
    "\n",
    "income_pre95=thinkstats2.Pmf(income_clean[pre95].astype(float),label='Pre95')\n",
    "income_post95=thinkstats2.Pmf(income_clean[~pre95].astype(float),label='Post95')\n",
    "\n",
    "thinkplot.PrePlot(2)\n",
    "\n",
    "thinkplot.Pmfs([income_pre95, income_post95])\n",
    "thinkplot.Config(xlabel='pre/post 95', ylabel='PMF')\n"
   ]
  },
  {
   "cell_type": "code",
   "execution_count": 62,
   "metadata": {},
   "outputs": [
    {
     "data": {
      "image/png": "[encoded data removed]",
      "text/plain": [
       "<Figure size 432x288 with 1 Axes>"
      ]
     },
     "metadata": {
      "needs_background": "light"
     },
     "output_type": "display_data"
    }
   ],
   "source": [
    "\n",
    "\n",
    "income_pre95=thinkstats2.Cdf(income_clean[pre95].astype(float),label='Pre95')\n",
    "income_post95=thinkstats2.Cdf(income_clean[~pre95].astype(float),label='Post95')\n",
    "\n",
    "thinkplot.PrePlot(2)\n",
    "\n",
    "thinkplot.Pmfs([income_pre95, income_post95])\n",
    "thinkplot.Config(xlabel='pre/post 95', ylabel='CDF')"
   ]
  },
  {
   "cell_type": "code",
   "execution_count": 63,
   "metadata": {},
   "outputs": [],
   "source": [
    "def Corr(xs, ys):\n",
    "    xs = np.asarray(xs)\n",
    "    ys = np.asarray(ys)\n",
    "\n",
    "    meanx, varx = thinkstats2.MeanVar(xs)\n",
    "    meany, vary = thinkstats2.MeanVar(ys)\n",
    "\n",
    "    corr = Cov(xs, ys, meanx, meany) / np.sqrt(varx * vary)\n",
    "    return corr"
   ]
  },
  {
   "cell_type": "code",
   "execution_count": 64,
   "metadata": {},
   "outputs": [],
   "source": [
    "#cov\n",
    "def Cov(xs, ys, meanx=None, meany=None):\n",
    "    xs = np.asarray(xs)\n",
    "    ys = np.asarray(ys)\n",
    "\n",
    "    if meanx is None:\n",
    "        meanx = np.mean(xs)\n",
    "    if meany is None:\n",
    "        meany = np.mean(ys)\n",
    "\n",
    "    cov = np.dot(xs-meanx, ys-meany) / len(xs)\n",
    "    return cov"
   ]
  },
  {
   "cell_type": "code",
   "execution_count": 66,
   "metadata": {},
   "outputs": [],
   "source": [
    "ages=gss_clean.AGE[income_clean]"
   ]
  },
  {
   "cell_type": "code",
   "execution_count": 67,
   "metadata": {},
   "outputs": [],
   "source": [
    "income_cl=np.log10(gss_clean.REALINC[income_clean].astype(float)+.00001)\n"
   ]
  },
  {
   "cell_type": "code",
   "execution_count": 68,
   "metadata": {},
   "outputs": [
    {
     "data": {
      "image/png": "[encoded data removed]",
      "text/plain": [
       "<Figure size 432x288 with 1 Axes>"
      ]
     },
     "metadata": {
      "needs_background": "light"
     },
     "output_type": "display_data"
    }
   ],
   "source": [
    "# Solution\n",
    "\n",
    "\n",
    "def ScatterPlot(ages, income, alpha=1.0, s=20):\n",
    "    \"\"\"Make a scatter plot and save it.\n",
    "\n",
    "    ages: sequence of float\n",
    "    income: sequence of float\n",
    "    alpha: float\n",
    "    \"\"\"\n",
    "    thinkplot.Scatter(ages, income, alpha=alpha)\n",
    "    thinkplot.Config(xlabel='Age (years)',\n",
    "                     ylabel='log10 of realinc'\n",
    "                   )\n",
    "    \n",
    "ScatterPlot(ages.astype(float),income_cl.astype(float), alpha=0.05,s=100)\n",
    "\n",
    "#ages.describe()"
   ]
  },
  {
   "cell_type": "code",
   "execution_count": 69,
   "metadata": {},
   "outputs": [],
   "source": [
    "# Solution\n",
    "#income_pre95=thinkstats2.Cdf(income_clean[pre95].astype(float),label='Pre95')\n",
    "#income_post95=thinkstats2.Cdf(income_clean[~pre95].astype(float),label='Post95')\n",
    "\n",
    "def RunTests(income, iters=1000):\n",
    "    \"\"\"Runs the tests from Chapter 9 with a subset of the data.\n",
    "\n",
    "    live: DataFrame\n",
    "    iters: how many iterations to run\n",
    "    \"\"\"\n",
    "    n = len(income)\n",
    "\n",
    "    # compare pregnancy lengths\n",
    "    data = income_clean[pre95].astype(float), income_clean[~pre95].astype(float)\n",
    "    ht = DiffMeansPermute(data)\n",
    "    p1 = ht.PValue(iters=iters)\n",
    "\n",
    "\n",
    "\n",
    "    print('%d\\t%0.2f' % (n, p1))"
   ]
  },
  {
   "cell_type": "code",
   "execution_count": 70,
   "metadata": {},
   "outputs": [],
   "source": [
    "#To compute the p-value of an observed difference in means, we can assume that there is no difference between the groups and generate simulated results by shuffling the data.\n",
    "\n",
    "class DiffMeansPermute(thinkstats2.HypothesisTest):\n",
    "\n",
    "    def TestStatistic(self, data):\n",
    "        group1, group2 = data\n",
    "        test_stat = abs(group1.mean() - group2.mean())\n",
    "        return test_stat\n",
    "\n",
    "    def MakeModel(self):\n",
    "        group1, group2 = self.data\n",
    "        self.n, self.m = len(group1), len(group2)\n",
    "        self.pool = np.hstack((group1, group2))\n",
    "\n",
    "    def RunModel(self):\n",
    "        np.random.shuffle(self.pool)\n",
    "        data = self.pool[:self.n], self.pool[self.n:]\n",
    "        return data"
   ]
  },
  {
   "cell_type": "code",
   "execution_count": 71,
   "metadata": {},
   "outputs": [
    {
     "name": "stdout",
     "output_type": "stream",
     "text": [
      "64814\t0.00\n",
      "32407\t0.00\n",
      "16203\t0.00\n",
      "8101\t0.00\n",
      "4050\t0.00\n",
      "2025\t0.00\n",
      "1012\t0.00\n"
     ]
    }
   ],
   "source": [
    "# Solution\n",
    "\n",
    "n = len(income_clean)\n",
    "for _ in range(7):\n",
    "    sample = thinkstats2.SampleRows(income_clean, n)\n",
    "    RunTests(sample)\n",
    "    n //= 2"
   ]
  },
  {
   "cell_type": "raw",
   "metadata": {},
   "source": [
    "# My results:\n",
    "\n",
    "# test1: difference in mean income \n",
    "\n",
    "\n",
    "# n       test1   \n",
    "64814\t0.00\n",
    "32407\t0.00\n",
    "16203\t0.00\n",
    "8101\t0.00\n",
    "4050\t0.00\n",
    "2025\t0.00\n",
    "1012\t0.00\n",
    "# Conclusion: As expected, tests that are positive with large sample\n"
   ]
  },
  {
   "cell_type": "code",
   "execution_count": 73,
   "metadata": {},
   "outputs": [],
   "source": [
    "df = gss_clean.copy()\n",
    "\n",
    "cols=df.columns\n",
    "df[cols] = df[cols].apply(pd.to_numeric, errors='coerce')"
   ]
  },
  {
   "cell_type": "code",
   "execution_count": 74,
   "metadata": {},
   "outputs": [
    {
     "name": "stdout",
     "output_type": "stream",
     "text": [
      "Optimization terminated successfully.\n",
      "         Current function value: 12606.524046\n",
      "         Iterations 7\n"
     ]
    },
    {
     "data": {
      "text/html": [
       "<table class=\"simpletable\">\n",
       "<caption>Poisson Regression Results</caption>\n",
       "<tr>\n",
       "  <th>Dep. Variable:</th>        <td>REALINC</td>     <th>  No. Observations:  </th>   <td> 64814</td>   \n",
       "</tr>\n",
       "<tr>\n",
       "  <th>Model:</th>                <td>Poisson</td>     <th>  Df Residuals:      </th>   <td> 64810</td>   \n",
       "</tr>\n",
       "<tr>\n",
       "  <th>Method:</th>                 <td>MLE</td>       <th>  Df Model:          </th>   <td>     3</td>   \n",
       "</tr>\n",
       "<tr>\n",
       "  <th>Date:</th>            <td>Tue, 09 Mar 2021</td> <th>  Pseudo R-squ.:     </th>   <td>0.03929</td>  \n",
       "</tr>\n",
       "<tr>\n",
       "  <th>Time:</th>                <td>22:14:19</td>     <th>  Log-Likelihood:    </th> <td>-8.1708e+08</td>\n",
       "</tr>\n",
       "<tr>\n",
       "  <th>converged:</th>             <td>True</td>       <th>  LL-Null:           </th> <td>-8.5050e+08</td>\n",
       "</tr>\n",
       "<tr>\n",
       "  <th>Covariance Type:</th>     <td>nonrobust</td>    <th>  LLR p-value:       </th>   <td> 0.000</td>   \n",
       "</tr>\n",
       "</table>\n",
       "<table class=\"simpletable\">\n",
       "<tr>\n",
       "      <td></td>         <th>coef</th>     <th>std err</th>      <th>z</th>      <th>P>|z|</th>  <th>[0.025</th>    <th>0.975]</th>  \n",
       "</tr>\n",
       "<tr>\n",
       "  <th>Intercept</th> <td>   10.4999</td> <td> 9.91e-05</td> <td> 1.06e+05</td> <td> 0.000</td> <td>   10.500</td> <td>   10.500</td>\n",
       "</tr>\n",
       "<tr>\n",
       "  <th>EDUC</th>      <td>    0.0178</td> <td> 2.39e-06</td> <td> 7434.790</td> <td> 0.000</td> <td>    0.018</td> <td>    0.018</td>\n",
       "</tr>\n",
       "<tr>\n",
       "  <th>AGE</th>       <td>   -0.0035</td> <td> 1.33e-06</td> <td>-2631.639</td> <td> 0.000</td> <td>   -0.004</td> <td>   -0.004</td>\n",
       "</tr>\n",
       "<tr>\n",
       "  <th>SEX</th>       <td>   -0.2092</td> <td> 4.65e-05</td> <td>-4495.969</td> <td> 0.000</td> <td>   -0.209</td> <td>   -0.209</td>\n",
       "</tr>\n",
       "</table>"
      ],
      "text/plain": [
       "<class 'statsmodels.iolib.summary.Summary'>\n",
       "\"\"\"\n",
       "                          Poisson Regression Results                          \n",
       "==============================================================================\n",
       "Dep. Variable:                REALINC   No. Observations:                64814\n",
       "Model:                        Poisson   Df Residuals:                    64810\n",
       "Method:                           MLE   Df Model:                            3\n",
       "Date:                Tue, 09 Mar 2021   Pseudo R-squ.:                 0.03929\n",
       "Time:                        22:14:19   Log-Likelihood:            -8.1708e+08\n",
       "converged:                       True   LL-Null:                   -8.5050e+08\n",
       "Covariance Type:            nonrobust   LLR p-value:                     0.000\n",
       "==============================================================================\n",
       "                 coef    std err          z      P>|z|      [0.025      0.975]\n",
       "------------------------------------------------------------------------------\n",
       "Intercept     10.4999   9.91e-05   1.06e+05      0.000      10.500      10.500\n",
       "EDUC           0.0178   2.39e-06   7434.790      0.000       0.018       0.018\n",
       "AGE           -0.0035   1.33e-06  -2631.639      0.000      -0.004      -0.004\n",
       "SEX           -0.2092   4.65e-05  -4495.969      0.000      -0.209      -0.209\n",
       "==============================================================================\n",
       "\"\"\""
      ]
     },
     "execution_count": 74,
     "metadata": {},
     "output_type": "execute_result"
    }
   ],
   "source": [
    "import statsmodels.formula.api as smf\n",
    "\n",
    "formula='REALINC~EDUC+AGE+SEX'\n",
    "model = smf.poisson(formula, data=df)\n",
    "results = model.fit()\n",
    "results.summary() "
   ]
  },
  {
   "cell_type": "code",
   "execution_count": null,
   "metadata": {},
   "outputs": [],
   "source": []
  }
 ],
 "metadata": {
  "kernelspec": {
   "display_name": "Python 3",
   "language": "python",
   "name": "python3"
  },
  "language_info": {
   "codemirror_mode": {
    "name": "ipython",
    "version": 3
   },
   "file_extension": ".py",
   "mimetype": "text/x-python",
   "name": "python",
   "nbconvert_exporter": "python",
   "pygments_lexer": "ipython3",
   "version": "3.8.5"
  }
 },
 "nbformat": 4,
 "nbformat_minor": 4
}
